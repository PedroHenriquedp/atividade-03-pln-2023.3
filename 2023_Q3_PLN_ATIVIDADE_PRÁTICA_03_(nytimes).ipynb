{
  "nbformat": 4,
  "nbformat_minor": 0,
  "metadata": {
    "colab": {
      "provenance": [],
      "include_colab_link": true
    },
    "kernelspec": {
      "name": "python3",
      "display_name": "Python 3"
    }
  },
  "cells": [
    {
      "cell_type": "markdown",
      "metadata": {
        "id": "view-in-github",
        "colab_type": "text"
      },
      "source": [
        "<a href=\"https://colab.research.google.com/github/PedroHenriquedp/atividade-03-pln-2023.3/blob/main/2023_Q3_PLN_ATIVIDADE_PR%C3%81TICA_03_(nytimes).ipynb\" target=\"_parent\"><img src=\"https://colab.research.google.com/assets/colab-badge.svg\" alt=\"Open In Colab\"/></a>"
      ]
    },
    {
      "cell_type": "markdown",
      "metadata": {
        "id": "Y6QILOdpOjwv"
      },
      "source": [
        "# **Processamento de Linguagem Natural [2023.Q3]**\n",
        "Prof. Alexandre Donizeti Alves"
      ]
    },
    {
      "cell_type": "markdown",
      "metadata": {
        "id": "8m67OOx9MX_3"
      },
      "source": [
        "### **ATIVIDADE PRÁTICA 03 [Tutorial sobre uma API]**\n",
        "\n",
        "---"
      ]
    },
    {
      "cell_type": "markdown",
      "metadata": {
        "id": "5Gk0nHKabBT-"
      },
      "source": [
        "A **ATIVIDADE PRÁTICA 03** deve ser feita utilizando o **Google Colab** com uma conta\n",
        "sua vinculada ao Gmail. O link do seu notebook, armazenado no Google Drive, além do link de um repositório no GitHub e os principais resultados da atividade, devem ser enviados usando o seguinte formulário:\n",
        "\n",
        "> https://forms.gle/nPsWnUuE5GCeXaiU8 (**AINDA EM CONSTRUÇÃO**)\n",
        "\n",
        "\n",
        "**IMPORTANTE**: A submissão deve ser feita APENAS POR UM INTEGRANTE DA EQUIPE até o dia 30/10 (segunda-feira - até às 23h59). Por favor, lembre-se de dar permissão de ACESSO IRRESTRITO para o professor da disciplina de PLN."
      ]
    },
    {
      "cell_type": "markdown",
      "metadata": {
        "id": "D7hJlilKM485"
      },
      "source": [
        "### **EQUIPE**\n",
        "\n",
        "---"
      ]
    },
    {
      "cell_type": "markdown",
      "source": [
        "**POR FAVOR, PREENCHER OS INTEGRANDES DA SUA EQUIPE:**\n",
        "\n",
        "\n",
        "**Integrante 01:**\n",
        "\n",
        "`Anthony Deleon de Almeida Costa 11202131250`\n",
        "\n",
        "**Integrante 02:**\n",
        "\n",
        "`Pedro Henrique Dias Pereira 11202130640`\n",
        "\n",
        "**Integrante 03:**\n",
        "\n",
        "`Ulisses Eduardo Zorzan Braz 11202130417`"
      ],
      "metadata": {
        "id": "tnIArN0QY-Ek"
      }
    },
    {
      "cell_type": "markdown",
      "source": [
        "### **API**\n",
        "---"
      ],
      "metadata": {
        "id": "6yExhaebs-nD"
      }
    },
    {
      "cell_type": "markdown",
      "source": [
        "**QUAL A API SELECIONADA POR SUA EQUIPE?**\n",
        "\n",
        "`API: New York Times`\n",
        "\n",
        "`Site oficial: https://www.nytimes.com/`\n",
        "\n",
        "`Link para a documentação oficial: https://developer.nytimes.com/apis`"
      ],
      "metadata": {
        "id": "DjJM_qhEZRy6"
      }
    },
    {
      "cell_type": "markdown",
      "metadata": {
        "id": "EtjgWQRzNphL"
      },
      "source": [
        "### **DESCRIÇÃO**\n",
        "---"
      ]
    },
    {
      "cell_type": "markdown",
      "source": [
        "Implementar um `notebook` no `Google Colab` para demonstrar passo a passo como usar uma determinada **API** em `Python`, ou seja, criar um **TUTORIAL** destacando desde a instalação e configuração da **API** até as principais finalidades. O **TUTORIAL** deve ser o mais completo possível, com diversos exemplos de uso e permitindo ser facilmente reproduzido.\n",
        "\n",
        "A **API** deve ser selecionada na seguinte planilha:\n",
        "\n",
        "https://docs.google.com/spreadsheets/d/1-Q1szJ3UmoE2_3LtcRQyqid5fPIcnpsR3XAPnoxLj2o/edit?usp=sharing\n",
        "\n",
        ">\n",
        "\n",
        "**IMPORTANTE:** É obrigatório usar o e-mail da UFABC.\n",
        "\n",
        ">\n",
        "\n",
        "**DICA:** Por favor, insira o seu nome ou da sua equipe na ordem definida na planilha. A escolha da **API** deve ser feita de acordo com a lista disponibilizada na planilha. Cada **API** só pode ser escolhida por, no **MÁXIMO**, 2 equipes."
      ],
      "metadata": {
        "id": "fXTwkiiGs2BV"
      }
    },
    {
      "cell_type": "markdown",
      "source": [
        "### **CRITÉRIOS DE AVALIAÇÃO**\n",
        "---\n"
      ],
      "metadata": {
        "id": "gWsBYQNtxmum"
      }
    },
    {
      "cell_type": "markdown",
      "source": [
        "As 3 equipes que **criarem os melhores tutoriais**  terão o peso diminuido na AVALIAÇÃO (Prova Escrita) em **25%** (caindo de 40 para 30).\n",
        "\n",
        "**IMPORTANTE**: a diminuição no peso da AVALIAÇÃO será aplicado para todos os membros da equipe.\n",
        "\n",
        "\n",
        "\n"
      ],
      "metadata": {
        "id": "5iHdx4BXYruQ"
      }
    },
    {
      "cell_type": "code",
      "source": [],
      "metadata": {
        "id": "af53HHP6i1xa"
      },
      "execution_count": null,
      "outputs": []
    },
    {
      "cell_type": "markdown",
      "source": [
        "### **TUTORIAL**\n",
        "---"
      ],
      "metadata": {
        "id": "nw09lujGvfjc"
      }
    },
    {
      "cell_type": "markdown",
      "source": [
        "**New York Times Developer**"
      ],
      "metadata": {
        "id": "5q9zcrJj0n4H"
      }
    },
    {
      "cell_type": "markdown",
      "source": [
        "**IMPORTANTE: A CHAVE DE ACESSO SERÁ DELETADA APÓS DUAS SEMANAS PARA EVITAR REQUISIÇÕES DE OUTROS USUÁRIOS COM MINHA CHAVE DE ACESSO**"
      ],
      "metadata": {
        "id": "aZWVrvyZipRK"
      }
    },
    {
      "cell_type": "markdown",
      "source": [
        "#### **INTRODUÇÃO**"
      ],
      "metadata": {
        "id": "ZM2EJhRIaaa2"
      }
    },
    {
      "cell_type": "markdown",
      "source": [
        "**Descrição da API**"
      ],
      "metadata": {
        "id": "FjG5RIW5bMfd"
      }
    },
    {
      "cell_type": "markdown",
      "source": [
        "As APIs do New York Times são uma extensão digital das ofertas jornalísticas deste icônico jornal. Elas permitem que você acesse, pesquise e incorpore conteúdo do New York Times diretamente em seus próprios aplicativos, websites e projetos, permitindo realizar uma série de tarefas, como recuperar artigos, listar seções do jornal, buscar informações sobre autores, acessar as principais histórias do dia e muito mais.\n",
        "\n",
        "Elas não apenas oferecem um vasto conjunto de dados atualizados em tempo real, mas também proporcionam flexibilidade para personalizar o conteúdo conforme suas necessidades específicas. Seja você um desenvolvedor que deseja criar um aplicativo de notícias personalizado, um pesquisador que procura tendências em jornalismo ou um entusiasta de dados que busca análises profundas, as APIs do New York Times oferecem as ferramentas necessárias para alcançar seus objetivos.\n",
        "\n",
        "Alguns dos recursos comuns incluem:\n",
        "\n",
        "- `Artigos: Você pode acessar artigos publicados pelo New York Times com base em critérios como palavras-chave, intervalos de datas e categorias;`\n",
        "\n",
        "- `Críticas de Filmes: A API permite que você acesse informações sobre filmes, incluindo críticas e resenhas;`\n",
        "\n",
        "- `Livros: É possível buscar informações sobre best-sellers, resenhas de livros e autores;`\n",
        "\n",
        "- `Notícias e Cabeçalhos: Acesse manchetes e notícias em tempo real a partir de diversas categorias;`\n",
        "\n",
        "- `Arquivos: A API fornece acesso a arquivos de artigos históricos do New York Times;`\n",
        "\n",
        "- `Autores: Você pode obter informações sobre autores, incluindo seus artigos e livros relacionados.`"
      ],
      "metadata": {
        "id": "7kndSzDVbQkd"
      }
    },
    {
      "cell_type": "markdown",
      "source": [
        "#### **CONFIGURAÇÃO**"
      ],
      "metadata": {
        "id": "5DIH_lmdaqrh"
      }
    },
    {
      "cell_type": "markdown",
      "source": [
        "##### **Criando uma conta no New York Times Developer Network**\n",
        "\n",
        "Para começar a utilizar as poderosas APIs do New York Times, você precisará criar uma conta no New York Times Developer Network. Siga o passo a passo abaixo para se registrar:\n",
        "\n",
        "1. Acesse o site do [New York Times Developer Network](https://developer.nytimes.com/).\n",
        "\n",
        "2. Clique no botão \"Sign Up\" (Inscrever-se) ou \"Register\" (Registrar-se), geralmente localizado no canto superior direito da página inicial.\n",
        "\n",
        "3. Você será direcionado para a página de registro. Preencha as informações necessárias, que geralmente incluem seu nome, endereço de e-mail e senha. Certifique-se de escolher uma senha segura.\n",
        "\n",
        "4. Leia e aceite os termos de uso e a política de privacidade do New York Times Developer Network, se for solicitado.\n",
        "\n",
        "5. Complete o processo de registro clicando no botão \"Register\" (Registrar) ou equivalente.\n",
        "\n",
        "6. Após o registro bem-sucedido, você receberá um e-mail de confirmação na caixa de entrada do endereço de e-mail que você forneceu. Siga as instruções no e-mail para verificar sua conta.\n",
        "\n",
        "7. Uma vez verificado, você terá acesso à sua conta no New York Times Developer Network e basta entrar no seu perfil e ir em \"Apps\".\n",
        "\n",
        "8. Crie um novo aplicativo e selecione os endpoints que deseja na sua aplicação.\n",
        "\n",
        "9. Após salvar, sua chave já será disponibilizada para uso.\n",
        "\n",
        "Lembre-se de que a chave de API é essencial para autenticar suas solicitações às APIs do New York Times. Guarde-a com segurança e não a compartilhe publicamente.\n",
        "\n",
        "Agora que você criou sua conta e possui sua chave de API, você está pronto para começar a explorar as possibilidades das APIs do New York Times para acessar informações e dados de notícias em tempo real. Continue a explorar este tutorial para saber como aproveitar ao máximo essas APIs em seus projetos.\n"
      ],
      "metadata": {
        "id": "XFGrsnmIUDYC"
      }
    },
    {
      "cell_type": "markdown",
      "source": [
        "#### **AUTENTICAÇÃO**"
      ],
      "metadata": {
        "id": "SwZgsj4narLo"
      }
    },
    {
      "cell_type": "markdown",
      "source": [
        "##### **Autenticação na API do New York Times com Python**\n",
        "\n",
        "A autenticação é um passo fundamental ao trabalhar com a API do New York Times. Ela garante que você tenha permissão para acessar os recursos e os dados disponíveis. Para interagir com a API do New York Times usando Python, você precisará incluir sua chave de API nas solicitações. Aqui está como funciona o processo de autenticação:\n",
        "\n",
        "1. **Obtendo Sua Chave de API**:\n",
        "   - Antes de começar, certifique-se de ter criado uma conta no New York Times Developer Network e obtido sua chave de API. Você pode encontrar sua chave na sua conta após o registro.\n",
        "\n",
        "2. **Biblioteca de Requisições HTTP**:\n",
        "   - Para fazer solicitações à API do New York Times em Python, é altamente recomendável usar uma biblioteca de requisições HTTP, como a popular `requests`. Se você ainda não a tem instalada, você pode fazê-lo com o seguinte comando em seu terminal:\n",
        "  `pip install requests`\n",
        "\n",
        "3. **Incluindo Sua Chave de API nas Solicitações**:\n",
        "- Você deve incluir sua chave de API como parte das solicitações que você faz para a API. Geralmente, isso é feito adicionando um parâmetro `api-key` à URL da solicitação, como no exemplo básico a seguir (:\n",
        "\n",
        "  ```python\n",
        "  import requests\n",
        "\n",
        "  api_key = 'SuaChaveDeAPIAqui'\n",
        "  url = 'https://api.nytimes.com/svc/endpoint_desejado?api-key=' + api_key\n",
        "\n",
        "  response = requests.get(url)\n",
        "\n",
        "   \n"
      ],
      "metadata": {
        "id": "-8enJyU8XVAa"
      }
    },
    {
      "cell_type": "markdown",
      "source": [
        "#### **ENDPOINTS DISPONÍVEIS**"
      ],
      "metadata": {
        "id": "nnMTwy7rZfus"
      }
    },
    {
      "cell_type": "markdown",
      "source": [
        "##### Tipos de Endpoints Disponíveis na API do New York Times\n",
        "\n",
        "A API do New York Times oferece uma variedade de endpoints que permitem acessar informações específicas relacionadas às notícias e ao jornalismo do New York Times. Cada endpoint tem um propósito distinto, permitindo que você acesse diferentes tipos de dados e recursos. Abaixo, destacamos alguns dos principais tipos de endpoints disponíveis:\n",
        "\n",
        "###### 1. Busca de Artigos\n",
        "\n",
        "- **Endpoint**: `/svc/search/v2/articlesearch.json`\n",
        "- **Descrição**: Este endpoint permite realizar pesquisas avançadas para recuperar artigos do New York Times com base em palavras-chave, datas, autores, seções e muito mais. É uma ferramenta poderosa para acessar artigos específicos ou realizar análises de conteúdo.\n",
        "\n",
        "###### 2. Informações sobre Seções\n",
        "\n",
        "- **Endpoint**: `/svc/news/v3/content/section-list.json`\n",
        "- **Descrição**: Com este endpoint, você pode obter uma lista de seções disponíveis no New York Times, como \"Política\", \"Esportes\", \"Tecnologia\" e outras. É útil para navegar pelas diferentes categorias de notícias.\n",
        "\n",
        "###### 3. Detalhes de Autores\n",
        "\n",
        "- **Endpoint**: `/svc/news/v3/content/{source}/{section}.json`\n",
        "- **Descrição**: Esse endpoint permite obter informações sobre autores específicos do New York Times, incluindo seus nomes, biografias e artigos associados. É útil para pesquisas relacionadas a jornalistas específicos.\n",
        "\n",
        "###### 4. Principais Histórias\n",
        "\n",
        "- **Endpoint**: `/svc/topstories/v2/{section}.json`\n",
        "- **Descrição**: Com este endpoint, você pode acessar as principais histórias do dia em diferentes seções, como notícias de última hora, esportes, tecnologia e muito mais. É uma maneira eficaz de fornecer as notícias mais recentes em seu aplicativo ou site.\n",
        "\n",
        "###### 5. Análises de Críticos\n",
        "\n",
        "- **Endpoint**: `/svc/movies/v2/critics/{reviewer}.json`\n",
        "- **Descrição**: Este endpoint permite pesquisar e acessar análises de filmes e críticas publicadas pelo New York Times. É útil para os entusiastas de cinema e críticos de filmes.\n",
        "\n",
        "###### 6. Arquivo de Livros\n",
        "\n",
        "- **Endpoint**: `/svc/books/v3/lists.json`\n",
        "- **Descrição**: Com este endpoint, você pode acessar listas de livros mais vendidos do New York Times, incluindo listas de ficção, não ficção, negócios e muito mais. É uma fonte valiosa de informações para amantes da literatura.\n",
        "\n",
        "Esses são apenas alguns dos tipos de endpoints disponíveis na API do New York Times. Cada um deles oferece uma funcionalidade específica para acessar informações e dados relacionados a notícias, jornalismo e conteúdo do New York Times. Ao escolher o endpoint apropriado e entender sua funcionalidade, você pode explorar e integrar esses recursos em seus projetos de desenvolvimento, aplicativos ou análises.\n"
      ],
      "metadata": {
        "id": "7FMc-5iVZrmm"
      }
    },
    {
      "cell_type": "markdown",
      "source": [
        "#### **UTILIZAÇÃO BÁSICA**"
      ],
      "metadata": {
        "id": "ZjXBfNHwarfV"
      }
    },
    {
      "cell_type": "code",
      "source": [
        "import requests\n",
        "\n",
        "def execute():\n",
        "    # Defina a URL (endpoint) da API do New York Times\n",
        "    requestUrl = \"https://api.nytimes.com/svc/search/v2/articlesearch.json\"\n",
        "\n",
        "    # Defina os parâmetros da consulta\n",
        "    params = {\n",
        "        'q': 'Natural Language Processing', # Definir as palavras-chaves para o que deseja procurar\n",
        "        'api-key': \"PuI4E1WNWLqHsggj3PlNT4JtM0FYwSwC\",  # Substitua pela sua chave de API válida\n",
        "    }\n",
        "\n",
        "    # Faça uma solicitação GET para a URL com os parâmetros definidos\n",
        "    response = requests.get(requestUrl, params=params)\n",
        "\n",
        "    # Analise a resposta da API para um formato JSON\n",
        "    data = response.json()\n",
        "\n",
        "    # Acesse e imprima os títulos e datas dos artigos encontrados na resposta\n",
        "    for article in data['response']['docs']:\n",
        "        headline = article['headline']['main']\n",
        "        print(f\"Titulo: {headline}\\n\")\n",
        "\n",
        "if __name__ == \"__main__\":\n",
        "    # Execute a função principal quando o script for executado diretamente\n",
        "    execute()\n"
      ],
      "metadata": {
        "id": "bNqB40PlbAWx",
        "colab": {
          "base_uri": "https://localhost:8080/"
        },
        "outputId": "f8b2c391-25b3-46db-ee66-39c72be61df3"
      },
      "execution_count": null,
      "outputs": [
        {
          "output_type": "stream",
          "name": "stdout",
          "text": [
            "Titulo: Microsoft to Buy Software Maker Colloquis\n",
            "\n",
            "Titulo: Health Care Industry Moves Slowly Onto the Internet\n",
            "\n",
            "Titulo: Health Care Industry Moves Slowly Online\n",
            "\n",
            "Titulo: Business Process Outsourcing\n",
            "\n",
            "Titulo: Japan venture for Microsoft\n",
            "\n",
            "Titulo: Ambiguities Hinder Translation by Computer : Language vs. Machine\n",
            "\n",
            "Titulo: In a Search Refinement, a Chance to Rival Google\n",
            "\n",
            "Titulo: Can a Machine Know That We Know What It Knows?\n",
            "\n",
            "Titulo: Research firm bets its search-engine technology can upstage Google - Technology & Media - International Herald Tribune\n",
            "\n",
            "Titulo: Robots Will Take Jobs, but Not as Fast as Some Fear, New Report Says\n",
            "\n"
          ]
        }
      ]
    },
    {
      "cell_type": "markdown",
      "source": [
        "#### **EXEMPLOS PRÁTICOS**"
      ],
      "metadata": {
        "id": "marqph_raryN"
      }
    },
    {
      "cell_type": "markdown",
      "source": [
        "###### **Busca de Artigos no New York Times**\n",
        "\n",
        "Este código em Python é um exemplo de como realizar buscas de artigos no New York Times utilizando a API do serviço e extrair informações relevantes dos resultados. Ele foi desenvolvido com o objetivo de possibilitar a coleta de dados de artigos relacionados a uma consulta específica e pode ser utilizado de várias maneiras.\n",
        "\n",
        "###### **Propósito do Código**\n",
        "\n",
        "O propósito deste código é permitir que os usuários façam consultas personalizadas à API do New York Times para obter informações sobre artigos publicados. Isso pode ser útil em diversas situações, tais como:\n",
        "\n",
        "- **Acompanhamento de Tendências**: É possível buscar artigos sobre tópicos específicos e analisar como esses tópicos evoluem ao longo do tempo.\n",
        "\n",
        "- **Avaliação de Conteúdo**: É útil para avaliar a qualidade e relevância de artigos de acordo com palavras-chave e critérios de data.\n",
        "\n",
        "- **Análise de Texto**: Permite a análise de títulos, resumos e datas dos artigos, o que pode ser útil para identificar tendências e insights em grandes conjuntos de texto.\n",
        "\n",
        "- **Geração de Dados**: Os dados coletados podem ser utilizados para alimentar outras aplicações, como chatbots, sistemas de recomendação ou agregadores de notícias.\n",
        "\n",
        "- **Pesquisa e Análise de Tópicos Específicos**: Os usuários podem buscar artigos sobre tópicos de seu interesse, facilitando a pesquisa e a análise de informações relevantes.\n",
        "\n",
        "###### **Personalização**\n",
        "\n",
        "O código pode ser facilmente personalizado, permitindo que os usuários modifiquem parâmetros como palavras-chave de busca, data de início, número de resultados por página e outros. Isso torna o código versátil e adaptável a diversas necessidades.\n",
        "\n",
        "Este exemplo demonstra como acessar a API do New York Times e coletar dados de artigos, mas o seu potencial de uso vai além disso. Ao adaptar o código de acordo com os requisitos específicos, é possível realizar análises avançadas e explorar informações valiosas em artigos publicados no New York Times.\n"
      ],
      "metadata": {
        "id": "RC2mrwdGNAko"
      }
    },
    {
      "cell_type": "code",
      "source": [
        "import requests\n",
        "\n",
        "def execute():\n",
        "    # Defina a URL da API do New York Times\n",
        "    requestUrl = \"https://api.nytimes.com/svc/search/v2/articlesearch.json\"\n",
        "\n",
        "    # Parâmetros de consulta padrão\n",
        "    params = {\n",
        "        'q': 'Natural Language Processing', # Palavra-chave para busca\n",
        "        'begin_date': '20230101',  # Defina a data de início como 1 de janeiro de 2023\n",
        "        'api-key': \"PuI4E1WNWLqHsggj3PlNT4JtM0FYwSwC\",  # Substitua pela sua chave de API válida\n",
        "        'page': 1,  # Página inicial\n",
        "        'page_size': 10  # Quantidade de resultados por página\n",
        "    }\n",
        "\n",
        "    while True:\n",
        "        # Faça uma solicitação GET para a URL com os parâmetros definidos\n",
        "        response = requests.get(requestUrl, params=params)\n",
        "\n",
        "        # Verifique se a solicitação foi bem-sucedida\n",
        "        if response.status_code != 200:\n",
        "            print(f\"Erro na solicitação: Código {response.status_code}\")\n",
        "            break\n",
        "\n",
        "        # Analise a resposta da API para um formato JSON\n",
        "        data = response.json()\n",
        "\n",
        "        # Acesse e imprima os títulos, resumos e datas dos artigos encontrados na resposta\n",
        "        for article in data['response']['docs']:\n",
        "            headline = article['headline']['main']\n",
        "            pub_date = article['pub_date']\n",
        "            abstract = article.get('abstract', 'Nenhum resumo disponível.')\n",
        "            print(f\"Titulo: {headline}\\nData de Publicação: {pub_date}\\nResumo: {abstract}\\n\")\n",
        "\n",
        "        # Verifique se há mais páginas de resultados\n",
        "        page = data['response']['meta']['offset']\n",
        "        total_pages = data['response']['meta']['hits'] // params['page_size'] + 1\n",
        "        if page < total_pages:\n",
        "            params['page'] += 1\n",
        "        else:\n",
        "            break\n",
        "\n",
        "if __name__ == \"__main__\":\n",
        "    # Execute a função principal quando o script for executado diretamente\n",
        "    execute()\n"
      ],
      "metadata": {
        "id": "aL49vegTa_4e",
        "colab": {
          "base_uri": "https://localhost:8080/"
        },
        "outputId": "a1938807-27fc-4edd-a579-7a8c2c42c884"
      },
      "execution_count": null,
      "outputs": [
        {
          "output_type": "stream",
          "name": "stdout",
          "text": [
            "Titulo: Your Friday Briefing: Russia’s Crumbling Gas Exports\n",
            "Data de Publicação: 2023-04-27T20:45:16+0000\n",
            "Resumo: Also, President Yoon’s address to Congress and Australia’s shift on New Zealand.\n",
            "\n",
            "Titulo: Noam Chomsky: The False Promise of ChatGPT\n",
            "Data de Publicação: 2023-03-08T10:00:25+0000\n",
            "Resumo: The most prominent strain of A.I. encodes a flawed conception of language and knowledge.\n",
            "\n",
            "Titulo: Can Intelligence Be Separated From the Body?\n",
            "Data de Publicação: 2023-04-11T06:59:13+0000\n",
            "Resumo: Some researchers question whether A.I. can be truly intelligent without a body to interact with and learn from the physical world.\n",
            "\n",
            "Titulo: The Dictionary I Read for Fun\n",
            "Data de Publicação: 2023-03-02T20:00:06+0000\n",
            "Resumo: With many Native American languages facing extinction, we need to preserve them.\n",
            "\n",
            "Titulo: ‘Polar Vortex’ Got You Baffled? Try This Extreme-Weather Guide\n",
            "Data de Publicação: 2023-01-18T10:00:19+0000\n",
            "Resumo: A handy explanation of some of the newer climatological verbiage.\n",
            "\n",
            "Titulo: How Amazon Taught Alexa to Speak in an Irish Brogue\n",
            "Data de Publicação: 2023-07-01T09:00:14+0000\n",
            "Resumo: For Alexa to speak like a Dubliner, Amazon researchers had to crack a problem that’s vexed data scientists for years: voice disentanglement.\n",
            "\n",
            "Titulo: Today’s Wordle Review\n",
            "Data de Publicação: 2023-04-11T07:00:04+0000\n",
            "Resumo: Our columnist reviews the day’s puzzle. Warning: contains spoilers!\n",
            "\n",
            "Titulo: Ukraine’s Social Media Stars Rethink How They Wield Their Influence\n",
            "Data de Publicação: 2023-04-20T15:42:27+0000\n",
            "Resumo: Russian was once the lingua franca of influencers in Ukraine. Now, not so much.\n",
            "\n",
            "Titulo: This Alaska Mine Would Destroy the World’s Largest Salmon Fishery\n",
            "Data de Publicação: 2023-09-24T10:00:08+0000\n",
            "Resumo: The state’s governor has asked the Supreme Court to resurrect a widely opposed plan rejected by the federal government.\n",
            "\n",
            "Titulo: How Does ChatGPT Really Work?\n",
            "Data de Publicação: 2023-03-28T15:30:39+0000\n",
            "Resumo: Learning how a “large language model” operates.\n",
            "\n",
            "Titulo: New York’s Poet of Light and Letters\n",
            "Data de Publicação: 2023-04-20T15:08:35+0000\n",
            "Resumo: “Chryssa & New York” at Dia celebrates the Greek American pioneer of neon innovation.\n",
            "\n",
            "Titulo: Translating the Music of Trees Into the Sounds of Opera\n",
            "Data de Publicação: 2023-03-06T15:36:47+0000\n",
            "Resumo: The tech-forward composer Tod Machover has made a chamber opera of Richard Powers’s novel “The Overstory,” featuring Joyce DiDonato.\n",
            "\n",
            "Titulo: Bad Bunny Is [Winning in Non-English]\n",
            "Data de Publicação: 2023-02-11T14:00:11+0000\n",
            "Resumo: The music industry may not be ready for his sazón, but the rest of us are.\n",
            "\n",
            "Titulo: Debt Deal Includes a Green Light for a Contentious Pipeline\n",
            "Data de Publicação: 2023-05-30T21:36:21+0000\n",
            "Resumo: Climate activists are livid over a provision in the debt limit agreement that orders federal agencies to issue permits for the Mountain Valley Pipeline — and says courts can’t review them.\n",
            "\n",
            "Titulo: Don’t Call It a ‘Mood Board’ — It’s a ‘World’\n",
            "Data de Publicação: 2023-04-12T13:21:16+0000\n",
            "Resumo: Nowadays if you’re designing a brand you need to do more than just evoke feelings.\n",
            "\n",
            "Titulo: How to Spot a Wellness Scam\n",
            "Data de Publicação: 2023-05-05T09:00:22+0000\n",
            "Resumo: An expert shares tips for assessing health information.\n",
            "\n",
            "Titulo: Does the Supreme Court’s Cherry-Picking Inject Politics Into Judging?\n",
            "Data de Publicação: 2023-10-09T09:02:16+0000\n",
            "Resumo: By choosing among and sometimes writing the questions the court agrees to answer, recent studies say, the justices have distorted the judicial process.\n",
            "\n",
            "Titulo: Can ChatGPT Plan Your Vacation? Here’s What to Know About A.I. and Travel.\n",
            "Data de Publicação: 2023-03-16T09:00:12+0000\n",
            "Resumo: Powerful new artificial-intelligence software is already shaking up the travel industry, but it has a long way to go until it can plan a seamless trip. For now.\n",
            "\n",
            "Titulo: House Passes G.O.P. Energy Bill, Pushing to Roll Back Biden Climate Measures\n",
            "Data de Publicação: 2023-03-30T15:47:52+0000\n",
            "Resumo: The legislation, which had no chance of making it through the Senate, would expand mining and fossil fuel production while repealing some elements of a major new law to combat climate change.\n",
            "\n",
            "Titulo: A.I. Is Becoming More Conversational. But Will It Get More Honest?\n",
            "Data de Publicação: 2023-01-10T08:00:09+0000\n",
            "Resumo: At a new website called Character.AI, you can chat with a reasonable facsimile of almost anyone, live or dead, real or (especially) imagined.\n",
            "\n"
          ]
        }
      ]
    },
    {
      "cell_type": "markdown",
      "source": [
        "###### **Código de Similaridade de Resumos de Artigos usando a lib TF-IDF**\n",
        "\n",
        "Este código é um exemplo de aplicação de processamento de linguagem natural (NLP) e cálculo de similaridade de texto. Ele utiliza as seguintes bibliotecas:\n",
        "\n",
        "- **scikit-learn (sklearn)**: Uma biblioteca de aprendizado de máquina em Python que fornece uma ampla variedade de ferramentas para tarefas de mineração de texto e aprendizado de máquina. Neste código, usamos as seguintes partes do scikit-learn:\n",
        "  - **TfidfVectorizer**: É usado para criar vetores TF-IDF (Term Frequency-Inverse Document Frequency) a partir dos resumos dos artigos. Isso ajuda a representar o texto de forma numérica para análise de similaridade.\n",
        "  - **cosine_similarity**: Usado para calcular a similaridade de cosseno entre os vetores TF-IDF dos resumos, medindo o quão semelhantes eles são uns aos outros.\n",
        "\n",
        "###### **Propósito do Código**\n",
        "\n",
        "O propósito deste código é buscar resumos de artigos do New York Times relacionados a uma consulta específica (no exemplo, \"Natural language processing\") e, em seguida, calcular a similaridade entre esses resumos e um resumo \"nosso\" especificado. As etapas do código são as seguintes:\n",
        "\n",
        "1. Faz uma solicitação à API do New York Times para obter resumos de artigos relacionados à pesquisa.\n",
        "2. Coleta os resumos dos artigos e os armazena em uma lista.\n",
        "3. Adiciona um resumo \"nosso\" à lista.\n",
        "4. Usa o TfidfVectorizer para criar vetores TF-IDF a partir dos resumos.\n",
        "5. Calcula a matriz de similaridade de cosseno entre os resumos.\n",
        "6. Exibe a similaridade em porcentagens entre os resumo dos artigos com o resumo que desejamos.\n",
        "\n",
        "Este código é útil para analisar a similaridade entre um conjunto de resumos de artigos, o que pode ser valioso em várias aplicações, como recomendação de conteúdo, classificação de documentos e agrupamento de informações.\n"
      ],
      "metadata": {
        "id": "h__2UcQURpKR"
      }
    },
    {
      "cell_type": "code",
      "source": [
        "# Importar as bibliotecas necessárias\n",
        "import requests  # Para fazer solicitações à API do New York Times\n",
        "from sklearn.feature_extraction.text import TfidfVectorizer  # Para criar vetores TF-IDF\n",
        "from sklearn.metrics.pairwise import cosine_similarity  # Para calcular a similaridade de cosseno\n",
        "\n",
        "# Defina a URL da API do New York Times\n",
        "NYTIMES_API_URL = \"https://api.nytimes.com/svc/search/v2/articlesearch.json\"\n",
        "\n",
        "# Função para fazer uma solicitação à API\n",
        "def make_api_request(url, params):\n",
        "    try:\n",
        "        # Faz uma solicitação GET à URL com os parâmetros especificados\n",
        "        response = requests.get(url, params=params)\n",
        "        response.raise_for_status()  # Verifica se a solicitação foi bem-sucedida\n",
        "        return response.json()  # Retorna os dados em formato JSON\n",
        "    except requests.exceptions.RequestException as e:\n",
        "        # Lida com erros na solicitação e imprime uma mensagem de erro\n",
        "        print(f\"Erro na solicitação: {str(e)}\")\n",
        "        return None\n",
        "\n",
        "# Função para buscar resumos de artigos do New York Times\n",
        "def fetch_abstracts(api_key, query, start_date, page_size):\n",
        "    # Parâmetros de consulta para a API\n",
        "    params = {\n",
        "        'q': query,           # Consulta de pesquisa\n",
        "        'begin_date': start_date,  # Data de início da pesquisa\n",
        "        'api-key': api_key,   # Chave de API válida\n",
        "        'page': 1,            # Página inicial dos resultados\n",
        "        'page_size': page_size  # Número de resultados por página\n",
        "    }\n",
        "\n",
        "    abstract_list = []  # Inicializa uma lista para armazenar os resumos\n",
        "\n",
        "    while True:\n",
        "        data = make_api_request(NYTIMES_API_URL, params)  # Faz a solicitação à API\n",
        "        if data is None:\n",
        "            break\n",
        "\n",
        "        # Coleta os resumos dos artigos da resposta da API\n",
        "        for article in data.get('response', {}).get('docs', []):\n",
        "            abstract = article.get('abstract', 'Nenhum resumo disponível.')\n",
        "            abstract_list.append(abstract)\n",
        "\n",
        "        if len(abstract_list) >= page_size:\n",
        "            break\n",
        "\n",
        "        # Verifica se há mais páginas de resultados\n",
        "        if data['response']['meta']['offset'] >= data['response']['meta']['hits']:\n",
        "            break\n",
        "        params['page'] += 1\n",
        "\n",
        "    return abstract_list  # Retorna a lista de resumos coletados\n",
        "\n",
        "# Função principal\n",
        "def main():\n",
        "    api_key = \"PuI4E1WNWLqHsggj3PlNT4JtM0FYwSwC\"  # Substitua pela sua chave de API válida\n",
        "    query = 'Natural Language Processing'  # Consulta de pesquisa\n",
        "    start_date = '20230101'  # Data de início da pesquisa\n",
        "    page_size = 10  # Número de resultados desejados\n",
        "\n",
        "\n",
        "    abstract_list = fetch_abstracts(api_key, query, start_date, page_size)\n",
        "\n",
        "    if not abstract_list:\n",
        "        print(\"Nenhum resumo disponível.\")\n",
        "        return\n",
        "\n",
        "    # Adicione seu resumo \"nosso\"\n",
        "    text_analyze = \"Some researchers question whether A.I. can be truly intelligent without a body to interact with and learn from the physical world\"\n",
        "\n",
        "    # Adicione o resumo \"nosso\" à lista de resumos\n",
        "    abstract_list.append(text_analyze)\n",
        "\n",
        "    # Crie um vetor TF-IDF a partir dos resumos\n",
        "    tfidf_vectorizer = TfidfVectorizer()\n",
        "    tfidf_matrix = tfidf_vectorizer.fit_transform(abstract_list)\n",
        "\n",
        "    # Calcule a matriz de similaridade de cosseno entre os resumos\n",
        "    cosine_sim = cosine_similarity(tfidf_matrix, tfidf_matrix)\n",
        "\n",
        "    # Exiba a matriz de similaridade em porcentagens\n",
        "    print(\"Matriz de Similaridade em Porcentagens:\")\n",
        "    for i, abstract in enumerate(abstract_list[:-1]):  # Ignora o último resumo (o \"Texto de análise\")\n",
        "        similarity_percentage = cosine_sim[i][-1] * 100\n",
        "        print(f\"Similaridade entre o Artigo {i+1} '{abstract_list[i][0:20]}...' e o texto de análise: {similarity_percentage:.2f}%\")\n",
        "\n",
        "if __name__ == \"__main__\":\n",
        "    main()\n"
      ],
      "metadata": {
        "colab": {
          "base_uri": "https://localhost:8080/"
        },
        "id": "YQJ-u2CxQ5wx",
        "outputId": "1403fb23-b3f6-424f-87f8-28a2f819030e"
      },
      "execution_count": null,
      "outputs": [
        {
          "output_type": "stream",
          "name": "stdout",
          "text": [
            "Matriz de Similaridade em Porcentagens:\n",
            "Similaridade entre o Artigo 1 'Also, President Yoon...' e o texto de análise: 6.59%\n",
            "Similaridade entre o Artigo 2 'The most prominent s...' e o texto de análise: 6.17%\n",
            "Similaridade entre o Artigo 3 'Some researchers que...' e o texto de análise: 100.00%\n",
            "Similaridade entre o Artigo 4 'With many Native Ame...' e o texto de análise: 7.55%\n",
            "Similaridade entre o Artigo 5 'A handy explanation ...' e o texto de análise: 8.24%\n",
            "Similaridade entre o Artigo 6 'For Alexa to speak l...' e o texto de análise: 7.37%\n",
            "Similaridade entre o Artigo 7 'Our columnist review...' e o texto de análise: 2.53%\n",
            "Similaridade entre o Artigo 8 'Russian was once the...' e o texto de análise: 2.03%\n",
            "Similaridade entre o Artigo 9 'The state’s governor...' e o texto de análise: 7.48%\n",
            "Similaridade entre o Artigo 10 'Learning how a “larg...' e o texto de análise: 0.00%\n"
          ]
        }
      ]
    },
    {
      "cell_type": "markdown",
      "source": [
        "#### **CONSIDERAÇÕES**"
      ],
      "metadata": {
        "id": "xIP2DoACa7of"
      }
    },
    {
      "cell_type": "markdown",
      "source": [
        "Este projeto apresentou exemplos práticos de integração com a API do New York Times, demonstrando seu uso no contexto de Processamento de Linguagem Natural (PLN). Com o objetivo de fornecer um guia conciso e informativo, focamos em dois exemplos práticos, um para mostrar como funciona uma pesquisa e outro  utilizando um modelo de similaridade para buscar informações relevantes.\n",
        "\n",
        "O tutorial destaca como os desenvolvedores podem aproveitar a API do New York Times para coletar dados, personalizando parâmetros como consulta de pesquisa, data de início e número de resultados por página. Além disso, demonstramos como extrair resumos de artigos, mostrando sua aplicação em um contexto específico.\n",
        "\n",
        "Esperamos que este tutorial tenha apresentado o potencial da API do New York Times no contexto do PLN e inspirado aplicações diversas, desde análises de conteúdo até recomendações de artigos de interesse. A estrutura da API e os exemplos práticos aqui apresentados proporcionam uma base sólida para explorar ainda mais as possibilidades oferecidas por essa valiosa fonte de informações."
      ],
      "metadata": {
        "id": "dCRN197XbcQH"
      }
    },
    {
      "cell_type": "markdown",
      "source": [
        "**REFERÊNCIAS**\n",
        "\n",
        "---\n",
        "\n"
      ],
      "metadata": {
        "id": "DJa20CJRpQ7t"
      }
    },
    {
      "cell_type": "markdown",
      "source": [
        "Informar todas as referências usadas para a elaboração do **TUTORIAL**. Citar, por exemplo: vídeos no **YouTube**, artigos no **Medium** etc.\n",
        "\n",
        "**IMPORTANTE**: considerar referências **RECENTES** (3 meses)."
      ],
      "metadata": {
        "id": "GxpuIOR3pUWr"
      }
    }
  ]
}